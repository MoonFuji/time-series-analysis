{
 "cells": [
  {
   "cell_type": "code",
   "execution_count": 4,
   "id": "95457042-d218-4337-b677-81a11fffb3bb",
   "metadata": {},
   "outputs": [],
   "source": [
    "import pandas as pd\n",
    "from sklearn.model_selection import train_test_split\n",
    "from sklearn.ensemble import RandomForestClassifier\n",
    "from sklearn.neighbors import KNeighborsClassifier\n",
    "from sklearn.linear_model import LogisticRegression\n",
    "from sklearn.svm import SVC\n",
    "from sklearn.metrics import classification_report\n",
    "from sklearn.preprocessing import StandardScaler\n",
    "import matplotlib.pyplot as plt\n",
    "from sklearn.ensemble import AdaBoostClassifier, GradientBoostingClassifier"
   ]
  },
  {
   "cell_type": "markdown",
   "id": "e21a0607-81e9-48f2-9679-4d0d8ff795bc",
   "metadata": {},
   "source": [
    "<h2>Importing the data and transform it into DataFrame</h2>"
   ]
  },
  {
   "cell_type": "code",
   "execution_count": 5,
   "id": "db3e5e2c-79cd-47c1-b936-2115ca5f4bbf",
   "metadata": {},
   "outputs": [
    {
     "data": {
      "text/html": [
       "<div>\n",
       "<style scoped>\n",
       "    .dataframe tbody tr th:only-of-type {\n",
       "        vertical-align: middle;\n",
       "    }\n",
       "\n",
       "    .dataframe tbody tr th {\n",
       "        vertical-align: top;\n",
       "    }\n",
       "\n",
       "    .dataframe thead th {\n",
       "        text-align: right;\n",
       "    }\n",
       "</style>\n",
       "<table border=\"1\" class=\"dataframe\">\n",
       "  <thead>\n",
       "    <tr style=\"text-align: right;\">\n",
       "      <th></th>\n",
       "      <th>Class</th>\n",
       "      <th>Time_1</th>\n",
       "      <th>Time_2</th>\n",
       "      <th>Time_3</th>\n",
       "      <th>Time_4</th>\n",
       "      <th>Time_5</th>\n",
       "      <th>Time_6</th>\n",
       "      <th>Time_7</th>\n",
       "      <th>Time_8</th>\n",
       "      <th>Time_9</th>\n",
       "      <th>...</th>\n",
       "      <th>Time_87</th>\n",
       "      <th>Time_88</th>\n",
       "      <th>Time_89</th>\n",
       "      <th>Time_90</th>\n",
       "      <th>Time_91</th>\n",
       "      <th>Time_92</th>\n",
       "      <th>Time_93</th>\n",
       "      <th>Time_94</th>\n",
       "      <th>Time_95</th>\n",
       "      <th>Time_96</th>\n",
       "    </tr>\n",
       "  </thead>\n",
       "  <tbody>\n",
       "    <tr>\n",
       "      <th>0</th>\n",
       "      <td>-1.0</td>\n",
       "      <td>0.502055</td>\n",
       "      <td>0.542163</td>\n",
       "      <td>0.722383</td>\n",
       "      <td>1.428885</td>\n",
       "      <td>2.136516</td>\n",
       "      <td>2.281149</td>\n",
       "      <td>1.936274</td>\n",
       "      <td>1.468890</td>\n",
       "      <td>1.008845</td>\n",
       "      <td>...</td>\n",
       "      <td>0.931043</td>\n",
       "      <td>0.610298</td>\n",
       "      <td>0.638894</td>\n",
       "      <td>0.684679</td>\n",
       "      <td>0.583238</td>\n",
       "      <td>0.640522</td>\n",
       "      <td>0.708585</td>\n",
       "      <td>0.705011</td>\n",
       "      <td>0.713815</td>\n",
       "      <td>0.433765</td>\n",
       "    </tr>\n",
       "    <tr>\n",
       "      <th>1</th>\n",
       "      <td>1.0</td>\n",
       "      <td>0.147647</td>\n",
       "      <td>0.804668</td>\n",
       "      <td>0.367771</td>\n",
       "      <td>0.243894</td>\n",
       "      <td>0.026614</td>\n",
       "      <td>-0.274402</td>\n",
       "      <td>0.096731</td>\n",
       "      <td>-0.747731</td>\n",
       "      <td>-1.609777</td>\n",
       "      <td>...</td>\n",
       "      <td>-0.533503</td>\n",
       "      <td>-0.400228</td>\n",
       "      <td>0.176084</td>\n",
       "      <td>1.111768</td>\n",
       "      <td>2.438428</td>\n",
       "      <td>2.734889</td>\n",
       "      <td>1.736054</td>\n",
       "      <td>0.036857</td>\n",
       "      <td>-1.265074</td>\n",
       "      <td>-0.208024</td>\n",
       "    </tr>\n",
       "    <tr>\n",
       "      <th>2</th>\n",
       "      <td>-1.0</td>\n",
       "      <td>0.316646</td>\n",
       "      <td>0.243199</td>\n",
       "      <td>0.370471</td>\n",
       "      <td>1.063738</td>\n",
       "      <td>1.678187</td>\n",
       "      <td>1.759558</td>\n",
       "      <td>1.697717</td>\n",
       "      <td>1.612159</td>\n",
       "      <td>1.168188</td>\n",
       "      <td>...</td>\n",
       "      <td>0.764229</td>\n",
       "      <td>0.610621</td>\n",
       "      <td>0.552900</td>\n",
       "      <td>0.566786</td>\n",
       "      <td>0.604002</td>\n",
       "      <td>0.777068</td>\n",
       "      <td>0.812345</td>\n",
       "      <td>0.748848</td>\n",
       "      <td>0.818042</td>\n",
       "      <td>0.539347</td>\n",
       "    </tr>\n",
       "    <tr>\n",
       "      <th>3</th>\n",
       "      <td>-1.0</td>\n",
       "      <td>1.168874</td>\n",
       "      <td>2.075901</td>\n",
       "      <td>1.760141</td>\n",
       "      <td>1.606446</td>\n",
       "      <td>1.949046</td>\n",
       "      <td>1.302842</td>\n",
       "      <td>0.459332</td>\n",
       "      <td>0.516412</td>\n",
       "      <td>0.852180</td>\n",
       "      <td>...</td>\n",
       "      <td>0.419006</td>\n",
       "      <td>0.723888</td>\n",
       "      <td>1.323947</td>\n",
       "      <td>2.136488</td>\n",
       "      <td>1.746597</td>\n",
       "      <td>1.470220</td>\n",
       "      <td>1.893512</td>\n",
       "      <td>1.256949</td>\n",
       "      <td>0.800407</td>\n",
       "      <td>0.731540</td>\n",
       "    </tr>\n",
       "    <tr>\n",
       "      <th>4</th>\n",
       "      <td>1.0</td>\n",
       "      <td>0.648658</td>\n",
       "      <td>0.752026</td>\n",
       "      <td>2.636231</td>\n",
       "      <td>3.455716</td>\n",
       "      <td>2.118157</td>\n",
       "      <td>0.520620</td>\n",
       "      <td>-0.188627</td>\n",
       "      <td>0.780818</td>\n",
       "      <td>0.933775</td>\n",
       "      <td>...</td>\n",
       "      <td>-0.097869</td>\n",
       "      <td>-0.136787</td>\n",
       "      <td>-0.340237</td>\n",
       "      <td>-0.089441</td>\n",
       "      <td>-0.080297</td>\n",
       "      <td>-0.192584</td>\n",
       "      <td>-0.304704</td>\n",
       "      <td>-0.454556</td>\n",
       "      <td>0.314590</td>\n",
       "      <td>0.582190</td>\n",
       "    </tr>\n",
       "  </tbody>\n",
       "</table>\n",
       "<p>5 rows × 97 columns</p>\n",
       "</div>"
      ],
      "text/plain": [
       "   Class    Time_1    Time_2    Time_3    Time_4    Time_5    Time_6  \\\n",
       "0   -1.0  0.502055  0.542163  0.722383  1.428885  2.136516  2.281149   \n",
       "1    1.0  0.147647  0.804668  0.367771  0.243894  0.026614 -0.274402   \n",
       "2   -1.0  0.316646  0.243199  0.370471  1.063738  1.678187  1.759558   \n",
       "3   -1.0  1.168874  2.075901  1.760141  1.606446  1.949046  1.302842   \n",
       "4    1.0  0.648658  0.752026  2.636231  3.455716  2.118157  0.520620   \n",
       "\n",
       "     Time_7    Time_8    Time_9  ...   Time_87   Time_88   Time_89   Time_90  \\\n",
       "0  1.936274  1.468890  1.008845  ...  0.931043  0.610298  0.638894  0.684679   \n",
       "1  0.096731 -0.747731 -1.609777  ... -0.533503 -0.400228  0.176084  1.111768   \n",
       "2  1.697717  1.612159  1.168188  ...  0.764229  0.610621  0.552900  0.566786   \n",
       "3  0.459332  0.516412  0.852180  ...  0.419006  0.723888  1.323947  2.136488   \n",
       "4 -0.188627  0.780818  0.933775  ... -0.097869 -0.136787 -0.340237 -0.089441   \n",
       "\n",
       "    Time_91   Time_92   Time_93   Time_94   Time_95   Time_96  \n",
       "0  0.583238  0.640522  0.708585  0.705011  0.713815  0.433765  \n",
       "1  2.438428  2.734889  1.736054  0.036857 -1.265074 -0.208024  \n",
       "2  0.604002  0.777068  0.812345  0.748848  0.818042  0.539347  \n",
       "3  1.746597  1.470220  1.893512  1.256949  0.800407  0.731540  \n",
       "4 -0.080297 -0.192584 -0.304704 -0.454556  0.314590  0.582190  \n",
       "\n",
       "[5 rows x 97 columns]"
      ]
     },
     "execution_count": 5,
     "metadata": {},
     "output_type": "execute_result"
    }
   ],
   "source": [
    "columns = ['Class'] + [f'Time_{i}' for i in range(1, 97)]\n",
    "\n",
    "df = pd.read_csv('ECG200_TRAIN.txt', delimiter='\\s+', header=None, names=columns)\n",
    "\n",
    "df.head(5)"
   ]
  },
  {
   "cell_type": "markdown",
   "id": "dcce63cc-01a2-4b42-9c7f-aa71ac0fd476",
   "metadata": {},
   "source": [
    "<h2>Handling missing values</h2>"
   ]
  },
  {
   "cell_type": "code",
   "execution_count": 6,
   "id": "a21de8c3-2cfe-401e-891a-cf6ac8d5ea4b",
   "metadata": {},
   "outputs": [
    {
     "name": "stdout",
     "output_type": "stream",
     "text": [
      "Missing Values:\n",
      " Class      0\n",
      "Time_1     0\n",
      "Time_2     0\n",
      "Time_3     0\n",
      "Time_4     0\n",
      "          ..\n",
      "Time_92    0\n",
      "Time_93    0\n",
      "Time_94    0\n",
      "Time_95    0\n",
      "Time_96    0\n",
      "Length: 97, dtype: int64\n"
     ]
    }
   ],
   "source": [
    "missing_values = df.isnull().sum()\n",
    "print(\"Missing Values:\\n\", missing_values)"
   ]
  },
  {
   "cell_type": "code",
   "execution_count": 7,
   "id": "8e3b2a89-002f-410c-9581-643a4fbfa437",
   "metadata": {},
   "outputs": [],
   "source": [
    "df.fillna(df.mean(), inplace=True)\n"
   ]
  },
  {
   "cell_type": "markdown",
   "id": "82e41cf0-618c-4626-a20e-701c5bb18e33",
   "metadata": {},
   "source": [
    "<h2>Verifying the features of the data</h2>"
   ]
  },
  {
   "cell_type": "code",
   "execution_count": 8,
   "id": "ab4db8ed-5458-4089-a0c8-63c14a9663d5",
   "metadata": {},
   "outputs": [
    {
     "data": {
      "text/html": [
       "<div>\n",
       "<style scoped>\n",
       "    .dataframe tbody tr th:only-of-type {\n",
       "        vertical-align: middle;\n",
       "    }\n",
       "\n",
       "    .dataframe tbody tr th {\n",
       "        vertical-align: top;\n",
       "    }\n",
       "\n",
       "    .dataframe thead th {\n",
       "        text-align: right;\n",
       "    }\n",
       "</style>\n",
       "<table border=\"1\" class=\"dataframe\">\n",
       "  <thead>\n",
       "    <tr style=\"text-align: right;\">\n",
       "      <th></th>\n",
       "      <th>Class</th>\n",
       "      <th>Time_1</th>\n",
       "      <th>Time_2</th>\n",
       "      <th>Time_3</th>\n",
       "      <th>Time_4</th>\n",
       "      <th>Time_5</th>\n",
       "      <th>Time_6</th>\n",
       "      <th>Time_7</th>\n",
       "      <th>Time_8</th>\n",
       "      <th>Time_9</th>\n",
       "      <th>...</th>\n",
       "      <th>Time_87</th>\n",
       "      <th>Time_88</th>\n",
       "      <th>Time_89</th>\n",
       "      <th>Time_90</th>\n",
       "      <th>Time_91</th>\n",
       "      <th>Time_92</th>\n",
       "      <th>Time_93</th>\n",
       "      <th>Time_94</th>\n",
       "      <th>Time_95</th>\n",
       "      <th>Time_96</th>\n",
       "    </tr>\n",
       "  </thead>\n",
       "  <tbody>\n",
       "    <tr>\n",
       "      <th>count</th>\n",
       "      <td>100.000000</td>\n",
       "      <td>100.000000</td>\n",
       "      <td>100.000000</td>\n",
       "      <td>100.000000</td>\n",
       "      <td>100.000000</td>\n",
       "      <td>100.000000</td>\n",
       "      <td>100.000000</td>\n",
       "      <td>100.000000</td>\n",
       "      <td>100.000000</td>\n",
       "      <td>100.000000</td>\n",
       "      <td>...</td>\n",
       "      <td>100.000000</td>\n",
       "      <td>100.000000</td>\n",
       "      <td>100.000000</td>\n",
       "      <td>100.000000</td>\n",
       "      <td>100.000000</td>\n",
       "      <td>100.000000</td>\n",
       "      <td>100.000000</td>\n",
       "      <td>100.000000</td>\n",
       "      <td>100.000000</td>\n",
       "      <td>100.000000</td>\n",
       "    </tr>\n",
       "    <tr>\n",
       "      <th>mean</th>\n",
       "      <td>0.380000</td>\n",
       "      <td>0.708438</td>\n",
       "      <td>1.422151</td>\n",
       "      <td>2.039149</td>\n",
       "      <td>2.126455</td>\n",
       "      <td>1.551616</td>\n",
       "      <td>0.762251</td>\n",
       "      <td>0.282647</td>\n",
       "      <td>0.333630</td>\n",
       "      <td>0.372973</td>\n",
       "      <td>...</td>\n",
       "      <td>0.190412</td>\n",
       "      <td>0.174286</td>\n",
       "      <td>0.205107</td>\n",
       "      <td>0.286484</td>\n",
       "      <td>0.412464</td>\n",
       "      <td>0.459377</td>\n",
       "      <td>0.389852</td>\n",
       "      <td>0.282864</td>\n",
       "      <td>0.182829</td>\n",
       "      <td>0.174863</td>\n",
       "    </tr>\n",
       "    <tr>\n",
       "      <th>std</th>\n",
       "      <td>0.929646</td>\n",
       "      <td>0.593513</td>\n",
       "      <td>0.927972</td>\n",
       "      <td>1.046880</td>\n",
       "      <td>1.098754</td>\n",
       "      <td>0.954734</td>\n",
       "      <td>0.963111</td>\n",
       "      <td>1.096712</td>\n",
       "      <td>0.877640</td>\n",
       "      <td>0.761753</td>\n",
       "      <td>...</td>\n",
       "      <td>0.403825</td>\n",
       "      <td>0.434002</td>\n",
       "      <td>0.454395</td>\n",
       "      <td>0.589879</td>\n",
       "      <td>0.772104</td>\n",
       "      <td>0.871045</td>\n",
       "      <td>0.832312</td>\n",
       "      <td>0.665548</td>\n",
       "      <td>0.619799</td>\n",
       "      <td>0.413644</td>\n",
       "    </tr>\n",
       "    <tr>\n",
       "      <th>min</th>\n",
       "      <td>-1.000000</td>\n",
       "      <td>-0.706305</td>\n",
       "      <td>-1.100715</td>\n",
       "      <td>-1.321589</td>\n",
       "      <td>-1.076313</td>\n",
       "      <td>-1.247922</td>\n",
       "      <td>-1.482391</td>\n",
       "      <td>-1.598712</td>\n",
       "      <td>-1.508060</td>\n",
       "      <td>-1.609777</td>\n",
       "      <td>...</td>\n",
       "      <td>-0.533503</td>\n",
       "      <td>-0.691436</td>\n",
       "      <td>-0.516631</td>\n",
       "      <td>-0.574304</td>\n",
       "      <td>-0.559178</td>\n",
       "      <td>-0.530917</td>\n",
       "      <td>-0.738019</td>\n",
       "      <td>-0.970796</td>\n",
       "      <td>-1.862314</td>\n",
       "      <td>-1.238622</td>\n",
       "    </tr>\n",
       "    <tr>\n",
       "      <th>25%</th>\n",
       "      <td>-1.000000</td>\n",
       "      <td>0.318643</td>\n",
       "      <td>0.779810</td>\n",
       "      <td>1.525548</td>\n",
       "      <td>1.511639</td>\n",
       "      <td>0.966292</td>\n",
       "      <td>0.022470</td>\n",
       "      <td>-0.603378</td>\n",
       "      <td>-0.464767</td>\n",
       "      <td>-0.075355</td>\n",
       "      <td>...</td>\n",
       "      <td>-0.131730</td>\n",
       "      <td>-0.140244</td>\n",
       "      <td>-0.121657</td>\n",
       "      <td>-0.144015</td>\n",
       "      <td>-0.070247</td>\n",
       "      <td>-0.098634</td>\n",
       "      <td>-0.107719</td>\n",
       "      <td>-0.119784</td>\n",
       "      <td>-0.124178</td>\n",
       "      <td>-0.043105</td>\n",
       "    </tr>\n",
       "    <tr>\n",
       "      <th>50%</th>\n",
       "      <td>1.000000</td>\n",
       "      <td>0.581008</td>\n",
       "      <td>1.232191</td>\n",
       "      <td>2.152552</td>\n",
       "      <td>2.234408</td>\n",
       "      <td>1.746861</td>\n",
       "      <td>0.574297</td>\n",
       "      <td>0.120230</td>\n",
       "      <td>0.366122</td>\n",
       "      <td>0.457255</td>\n",
       "      <td>...</td>\n",
       "      <td>0.086719</td>\n",
       "      <td>0.089474</td>\n",
       "      <td>0.107957</td>\n",
       "      <td>0.129133</td>\n",
       "      <td>0.170798</td>\n",
       "      <td>0.205220</td>\n",
       "      <td>0.101618</td>\n",
       "      <td>0.136106</td>\n",
       "      <td>0.124148</td>\n",
       "      <td>0.152284</td>\n",
       "    </tr>\n",
       "    <tr>\n",
       "      <th>75%</th>\n",
       "      <td>1.000000</td>\n",
       "      <td>0.994760</td>\n",
       "      <td>2.093703</td>\n",
       "      <td>2.707411</td>\n",
       "      <td>2.865394</td>\n",
       "      <td>2.163355</td>\n",
       "      <td>1.502335</td>\n",
       "      <td>1.226563</td>\n",
       "      <td>1.008876</td>\n",
       "      <td>0.990675</td>\n",
       "      <td>...</td>\n",
       "      <td>0.439861</td>\n",
       "      <td>0.468588</td>\n",
       "      <td>0.480635</td>\n",
       "      <td>0.613990</td>\n",
       "      <td>0.588429</td>\n",
       "      <td>0.630966</td>\n",
       "      <td>0.560136</td>\n",
       "      <td>0.594807</td>\n",
       "      <td>0.541680</td>\n",
       "      <td>0.429055</td>\n",
       "    </tr>\n",
       "    <tr>\n",
       "      <th>max</th>\n",
       "      <td>1.000000</td>\n",
       "      <td>2.689017</td>\n",
       "      <td>3.535038</td>\n",
       "      <td>3.850263</td>\n",
       "      <td>4.199145</td>\n",
       "      <td>3.720899</td>\n",
       "      <td>3.026452</td>\n",
       "      <td>2.454195</td>\n",
       "      <td>2.220327</td>\n",
       "      <td>2.122435</td>\n",
       "      <td>...</td>\n",
       "      <td>1.376751</td>\n",
       "      <td>1.497244</td>\n",
       "      <td>1.436900</td>\n",
       "      <td>2.190151</td>\n",
       "      <td>3.047309</td>\n",
       "      <td>3.269882</td>\n",
       "      <td>3.332053</td>\n",
       "      <td>2.653741</td>\n",
       "      <td>1.930880</td>\n",
       "      <td>1.372607</td>\n",
       "    </tr>\n",
       "  </tbody>\n",
       "</table>\n",
       "<p>8 rows × 97 columns</p>\n",
       "</div>"
      ],
      "text/plain": [
       "            Class      Time_1      Time_2      Time_3      Time_4      Time_5  \\\n",
       "count  100.000000  100.000000  100.000000  100.000000  100.000000  100.000000   \n",
       "mean     0.380000    0.708438    1.422151    2.039149    2.126455    1.551616   \n",
       "std      0.929646    0.593513    0.927972    1.046880    1.098754    0.954734   \n",
       "min     -1.000000   -0.706305   -1.100715   -1.321589   -1.076313   -1.247922   \n",
       "25%     -1.000000    0.318643    0.779810    1.525548    1.511639    0.966292   \n",
       "50%      1.000000    0.581008    1.232191    2.152552    2.234408    1.746861   \n",
       "75%      1.000000    0.994760    2.093703    2.707411    2.865394    2.163355   \n",
       "max      1.000000    2.689017    3.535038    3.850263    4.199145    3.720899   \n",
       "\n",
       "           Time_6      Time_7      Time_8      Time_9  ...     Time_87  \\\n",
       "count  100.000000  100.000000  100.000000  100.000000  ...  100.000000   \n",
       "mean     0.762251    0.282647    0.333630    0.372973  ...    0.190412   \n",
       "std      0.963111    1.096712    0.877640    0.761753  ...    0.403825   \n",
       "min     -1.482391   -1.598712   -1.508060   -1.609777  ...   -0.533503   \n",
       "25%      0.022470   -0.603378   -0.464767   -0.075355  ...   -0.131730   \n",
       "50%      0.574297    0.120230    0.366122    0.457255  ...    0.086719   \n",
       "75%      1.502335    1.226563    1.008876    0.990675  ...    0.439861   \n",
       "max      3.026452    2.454195    2.220327    2.122435  ...    1.376751   \n",
       "\n",
       "          Time_88     Time_89     Time_90     Time_91     Time_92     Time_93  \\\n",
       "count  100.000000  100.000000  100.000000  100.000000  100.000000  100.000000   \n",
       "mean     0.174286    0.205107    0.286484    0.412464    0.459377    0.389852   \n",
       "std      0.434002    0.454395    0.589879    0.772104    0.871045    0.832312   \n",
       "min     -0.691436   -0.516631   -0.574304   -0.559178   -0.530917   -0.738019   \n",
       "25%     -0.140244   -0.121657   -0.144015   -0.070247   -0.098634   -0.107719   \n",
       "50%      0.089474    0.107957    0.129133    0.170798    0.205220    0.101618   \n",
       "75%      0.468588    0.480635    0.613990    0.588429    0.630966    0.560136   \n",
       "max      1.497244    1.436900    2.190151    3.047309    3.269882    3.332053   \n",
       "\n",
       "          Time_94     Time_95     Time_96  \n",
       "count  100.000000  100.000000  100.000000  \n",
       "mean     0.282864    0.182829    0.174863  \n",
       "std      0.665548    0.619799    0.413644  \n",
       "min     -0.970796   -1.862314   -1.238622  \n",
       "25%     -0.119784   -0.124178   -0.043105  \n",
       "50%      0.136106    0.124148    0.152284  \n",
       "75%      0.594807    0.541680    0.429055  \n",
       "max      2.653741    1.930880    1.372607  \n",
       "\n",
       "[8 rows x 97 columns]"
      ]
     },
     "execution_count": 8,
     "metadata": {},
     "output_type": "execute_result"
    }
   ],
   "source": [
    "df.describe()"
   ]
  },
  {
   "cell_type": "markdown",
   "id": "25eac759-5435-40e9-a4bd-45a9f4e06292",
   "metadata": {},
   "source": [
    "<h2>Spltting the df</h2>"
   ]
  },
  {
   "cell_type": "code",
   "execution_count": 34,
   "id": "d16b2275-cdcf-4850-9639-f3d659818ddd",
   "metadata": {},
   "outputs": [],
   "source": [
    "X = df.drop('Class', axis=1)\n",
    "y = df['Class']"
   ]
  },
  {
   "cell_type": "markdown",
   "id": "46bb124d-a593-4a1c-9f6b-2cecf6e950c9",
   "metadata": {},
   "source": [
    "<h2>Normalizing the data</h2>"
   ]
  },
  {
   "cell_type": "code",
   "execution_count": 35,
   "id": "9f0b9ba6-061b-4898-aca8-56ab4301ffc6",
   "metadata": {},
   "outputs": [],
   "source": [
    "global_max = X.values.max()\n",
    "global_min = X.values.min()\n",
    "\n",
    "X_normalized = (X - global_min) / (global_max - global_min)"
   ]
  },
  {
   "cell_type": "code",
   "execution_count": 37,
   "id": "096fe64c",
   "metadata": {},
   "outputs": [],
   "source": [
    "df_normalized = pd.concat([y, X_normalized], axis=1)"
   ]
  },
  {
   "cell_type": "markdown",
   "id": "0298a138-beeb-4c16-afba-c731b12940fd",
   "metadata": {},
   "source": [
    "<h2>Plotting some samples</h2>"
   ]
  },
  {
   "cell_type": "code",
   "execution_count": 23,
   "id": "ee814331-4e71-4a6d-ae0a-52ebf9785f17",
   "metadata": {},
   "outputs": [
    {
     "data": {
      "image/png": "[encoded data removed]",
      "text/plain": [
       "<Figure size 1200x600 with 5 Axes>"
      ]
     },
     "metadata": {},
     "output_type": "display_data"
    }
   ],
   "source": [
    "\n",
    "num_samples_to_plot = 5\n",
    "\n",
    "plt.figure(figsize=(12, 6))\n",
    "\n",
    "for i in range(num_samples_to_plot):\n",
    "    plt.subplot(num_samples_to_plot, 1, i + 1)\n",
    "    plt.plot(X[i], label=f\"Class: {y[i]}\")\n",
    "    plt.xlabel('Time')\n",
    "    plt.ylabel('ECG Amplitude')\n",
    "    plt.title(f'Sample ECG Recording {i+1}')\n",
    "    plt.legend()\n",
    "\n",
    "plt.tight_layout()\n",
    "plt.show()\n"
   ]
  },
  {
   "cell_type": "markdown",
   "id": "b41a47f1-e642-47dc-8779-1e761a042fb4",
   "metadata": {},
   "source": [
    "<h2>Splitting the data</h2>"
   ]
  },
  {
   "cell_type": "code",
   "execution_count": 38,
   "id": "a5ff328c-3a51-4116-908c-d95dff4dc23a",
   "metadata": {},
   "outputs": [],
   "source": [
    "X_train, X_test, y_train, y_test = train_test_split(X_normalized, y, test_size=0.2, random_state=42)\n"
   ]
  },
  {
   "cell_type": "markdown",
   "id": "e7dd2da3-d1c8-442c-8426-6c5417d5a943",
   "metadata": {},
   "source": [
    "<h1> MODELS </h1>"
   ]
  },
  {
   "cell_type": "markdown",
   "id": "f771c484-825f-4ba9-b0ea-b4265da515a4",
   "metadata": {},
   "source": [
    "<h1>Random Forest</h1>"
   ]
  },
  {
   "cell_type": "code",
   "execution_count": 39,
   "id": "770b6497-b820-428c-84f4-d8aa359d8658",
   "metadata": {},
   "outputs": [
    {
     "name": "stdout",
     "output_type": "stream",
     "text": [
      "Classification Report:\n",
      "               precision    recall  f1-score   support\n",
      "\n",
      "        -1.0       0.67      0.67      0.67         6\n",
      "         1.0       0.86      0.86      0.86        14\n",
      "\n",
      "    accuracy                           0.80        20\n",
      "   macro avg       0.76      0.76      0.76        20\n",
      "weighted avg       0.80      0.80      0.80        20\n",
      "\n"
     ]
    }
   ],
   "source": [
    "rf = RandomForestClassifier(n_estimators=100, random_state=42)\n",
    "rf.fit(X_train, y_train)\n",
    "rf_y_pred = rf.predict(X_test)\n",
    "print(\"Classification Report:\\n\", classification_report(y_test, rf_y_pred))"
   ]
  },
  {
   "cell_type": "markdown",
   "id": "08851905-b110-4114-963d-374c8eb67a2c",
   "metadata": {},
   "source": [
    "<H1>KNN</H1>"
   ]
  },
  {
   "cell_type": "code",
   "execution_count": 40,
   "id": "40587b42-1fba-4614-a240-48c75271c529",
   "metadata": {},
   "outputs": [
    {
     "name": "stdout",
     "output_type": "stream",
     "text": [
      "KNN Classification Report:\n",
      "               precision    recall  f1-score   support\n",
      "\n",
      "        -1.0       1.00      0.67      0.80         6\n",
      "         1.0       0.88      1.00      0.93        14\n",
      "\n",
      "    accuracy                           0.90        20\n",
      "   macro avg       0.94      0.83      0.87        20\n",
      "weighted avg       0.91      0.90      0.89        20\n",
      "\n",
      "KNN Classification Report Train:\n",
      "               precision    recall  f1-score   support\n",
      "\n",
      "        -1.0       0.86      0.76      0.81        25\n",
      "         1.0       0.90      0.95      0.92        55\n",
      "\n",
      "    accuracy                           0.89        80\n",
      "   macro avg       0.88      0.85      0.86        80\n",
      "weighted avg       0.89      0.89      0.89        80\n",
      "\n"
     ]
    }
   ],
   "source": [
    "knn_model = KNeighborsClassifier()\n",
    "knn_model.fit(X_train, y_train)\n",
    "knn_y_pred = knn_model.predict(X_test)\n",
    "print(\"KNN Classification Report:\\n\", classification_report(y_test, knn_y_pred))\n",
    "\n",
    "knn_y_pred_train = knn_model.predict(X_train)\n",
    "print(\"KNN Classification Report Train:\\n\", classification_report(y_train, knn_y_pred_train))"
   ]
  },
  {
   "cell_type": "markdown",
   "id": "552d8a79-b4de-4436-b947-304484463057",
   "metadata": {},
   "source": [
    "<h1>Logistic Regression</h1>"
   ]
  },
  {
   "cell_type": "code",
   "execution_count": 41,
   "id": "121a7b5b-f4d7-47d1-99c9-f2e60584dfda",
   "metadata": {},
   "outputs": [
    {
     "name": "stdout",
     "output_type": "stream",
     "text": [
      "Logistic Regression Classification Report:\n",
      "               precision    recall  f1-score   support\n",
      "\n",
      "        -1.0       0.67      0.33      0.44         6\n",
      "         1.0       0.76      0.93      0.84        14\n",
      "\n",
      "    accuracy                           0.75        20\n",
      "   macro avg       0.72      0.63      0.64        20\n",
      "weighted avg       0.74      0.75      0.72        20\n",
      "\n",
      "Logistic Regression Classification Report Train:\n",
      "               precision    recall  f1-score   support\n",
      "\n",
      "        -1.0       0.83      0.80      0.82        25\n",
      "         1.0       0.91      0.93      0.92        55\n",
      "\n",
      "    accuracy                           0.89        80\n",
      "   macro avg       0.87      0.86      0.87        80\n",
      "weighted avg       0.89      0.89      0.89        80\n",
      "\n"
     ]
    }
   ],
   "source": [
    "logistic_model = LogisticRegression()\n",
    "logistic_model.fit(X_train, y_train)\n",
    "logistic_y_pred = logistic_model.predict(X_test)\n",
    "print(\"Logistic Regression Classification Report:\\n\", classification_report(y_test, logistic_y_pred))\n",
    "\n",
    "logistic_y_pred_train = logistic_model.predict(X_train)\n",
    "print(\"Logistic Regression Classification Report Train:\\n\", classification_report(y_train, logistic_y_pred_train))"
   ]
  },
  {
   "cell_type": "markdown",
   "id": "960be474-1fa9-402b-8ffa-a3413ee10d36",
   "metadata": {},
   "source": [
    "<h1>SVM</h1>"
   ]
  },
  {
   "cell_type": "code",
   "execution_count": 28,
   "id": "8518ea89-8e6a-443a-af39-c2be9c868ed0",
   "metadata": {},
   "outputs": [
    {
     "name": "stdout",
     "output_type": "stream",
     "text": [
      "SVM Classification Report:\n",
      "               precision    recall  f1-score   support\n",
      "\n",
      "        -1.0       1.00      0.50      0.67         6\n",
      "         1.0       0.82      1.00      0.90        14\n",
      "\n",
      "    accuracy                           0.85        20\n",
      "   macro avg       0.91      0.75      0.78        20\n",
      "weighted avg       0.88      0.85      0.83        20\n",
      "\n"
     ]
    }
   ],
   "source": [
    "svm_model = SVC()\n",
    "svm_model.fit(X_train, y_train)\n",
    "svm_y_pred = svm_model.predict(X_test)\n",
    "print(\"SVM Classification Report:\\n\", classification_report(y_test, svm_y_pred))"
   ]
  },
  {
   "cell_type": "markdown",
   "id": "81ada015-9c05-4cbe-92a2-b4b13d2f49cc",
   "metadata": {},
   "source": [
    "<h1>AdaBoost</h1>"
   ]
  },
  {
   "cell_type": "code",
   "execution_count": 29,
   "id": "923fa51a-8e88-4e83-bad2-a31245e6697c",
   "metadata": {},
   "outputs": [
    {
     "name": "stdout",
     "output_type": "stream",
     "text": [
      "AdaBoost Classification Report:\n",
      "               precision    recall  f1-score   support\n",
      "\n",
      "        -1.0       0.71      0.83      0.77         6\n",
      "         1.0       0.92      0.86      0.89        14\n",
      "\n",
      "    accuracy                           0.85        20\n",
      "   macro avg       0.82      0.85      0.83        20\n",
      "weighted avg       0.86      0.85      0.85        20\n",
      "\n"
     ]
    },
    {
     "name": "stderr",
     "output_type": "stream",
     "text": [
      "/home/moon/anaconda3/envs/lab1/lib/python3.11/site-packages/sklearn/ensemble/_weight_boosting.py:519: FutureWarning: The SAMME.R algorithm (the default) is deprecated and will be removed in 1.6. Use the SAMME algorithm to circumvent this warning.\n",
      "  warnings.warn(\n"
     ]
    }
   ],
   "source": [
    "ada_boost_model = AdaBoostClassifier()\n",
    "ada_boost_model.fit(X_train, y_train)\n",
    "ada_boost_y_pred = ada_boost_model.predict(X_test)\n",
    "print(\"AdaBoost Classification Report:\\n\", classification_report(y_test, ada_boost_y_pred))\n"
   ]
  },
  {
   "cell_type": "markdown",
   "id": "07558777-b9e0-4e15-9b6a-6c20b77e56b6",
   "metadata": {},
   "source": [
    "<h1>GradientBoost</h1>"
   ]
  },
  {
   "cell_type": "code",
   "execution_count": 30,
   "id": "c72502ce-88e8-49c1-aeb5-8e4071d77e19",
   "metadata": {},
   "outputs": [
    {
     "name": "stdout",
     "output_type": "stream",
     "text": [
      "Gradient Boosting Classification Report:\n",
      "               precision    recall  f1-score   support\n",
      "\n",
      "        -1.0       0.57      0.67      0.62         6\n",
      "         1.0       0.85      0.79      0.81        14\n",
      "\n",
      "    accuracy                           0.75        20\n",
      "   macro avg       0.71      0.73      0.72        20\n",
      "weighted avg       0.76      0.75      0.75        20\n",
      "\n"
     ]
    }
   ],
   "source": [
    "gradient_boost_model = GradientBoostingClassifier()\n",
    "gradient_boost_model.fit(X_train, y_train)\n",
    "gradient_boost_y_pred = gradient_boost_model.predict(X_test)\n",
    "print(\"Gradient Boosting Classification Report:\\n\", classification_report(y_test, gradient_boost_y_pred))"
   ]
  }
 ],
 "metadata": {
  "kernelspec": {
   "display_name": "Python 3 (ipykernel)",
   "language": "python",
   "name": "python3"
  },
  "language_info": {
   "codemirror_mode": {
    "name": "ipython",
    "version": 3
   },
   "file_extension": ".py",
   "mimetype": "text/x-python",
   "name": "python",
   "nbconvert_exporter": "python",
   "pygments_lexer": "ipython3",
   "version": "3.11.5"
  }
 },
 "nbformat": 4,
 "nbformat_minor": 5
}
